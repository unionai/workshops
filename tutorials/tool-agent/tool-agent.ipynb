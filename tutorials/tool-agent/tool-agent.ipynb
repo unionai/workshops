{
 "cells": [
  {
   "cell_type": "markdown",
   "id": "0dafb612",
   "metadata": {},
   "source": [
    "# A tool calling agent"
   ]
  },
  {
   "cell_type": "markdown",
   "id": "b703db5f",
   "metadata": {},
   "source": []
  }
 ],
 "metadata": {
  "language_info": {
   "name": "python"
  }
 },
 "nbformat": 4,
 "nbformat_minor": 5
}
