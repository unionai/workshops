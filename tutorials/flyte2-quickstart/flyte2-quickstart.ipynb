{
 "cells": [
  {
   "cell_type": "markdown",
   "id": "bae779f5",
   "metadata": {},
   "source": [
    "# Intro to Flyte 2\n",
    "\n",
    "To run this tutorial you'll need to be either an exsisting Union.ai user with Flyte v2, or [sign up for the free Beta access](https://www.union.ai/beta)!\n",
    "\n",
    "Flyte 2.0\n",
    "\n"
   ]
  },
  {
   "cell_type": "markdown",
   "id": "3594d4eb",
   "metadata": {},
   "source": [
    "## Setup\n",
    "\n",
    "if you're running this notebook locally we suggest creating a virtual environment and installing the packages locally with uv. You can follow the instructions on the README.\n",
    "\n",
    "- uv venv .venv --python=python3.11\n",
    "- source .venv/bin/activate\n",
    "- uv pip install flyte>=0.2.0b21 --prerelease=allow\n",
    "\n",
    "If you're running this in google colab run the two setup cells below:"
   ]
  },
  {
   "cell_type": "code",
   "execution_count": 2,
   "id": "f137f9fd",
   "metadata": {},
   "outputs": [
    {
     "name": "stdout",
     "output_type": "stream",
     "text": [
      "zsh:1: 0.2.0b21 not found\n"
     ]
    }
   ],
   "source": [
    "\n",
    "!uv pip install flyte>=0.2.0b21 --prerelease=allow"
   ]
  },
  {
   "cell_type": "markdown",
   "id": "4cabef4a",
   "metadata": {},
   "source": [
    "##### Flyte Config\n",
    "if you're running this locally remove `--auth-type headless\\`"
   ]
  },
  {
   "cell_type": "code",
   "execution_count": null,
   "id": "16ec5937",
   "metadata": {},
   "outputs": [],
   "source": [
    "!flyte create config \\\n",
    "    --endpoint demo.hosted.unionai.cloud \\\n",
    "    --auth-type headless\\\n",
    "    --builder remote \\\n",
    "    --domain development \\\n",
    "    --project flytesnacks"
   ]
  },
  {
   "cell_type": "markdown",
   "id": "c36d56d7",
   "metadata": {},
   "source": [
    "## 👋 Hello Flyte Tasks"
   ]
  },
  {
   "cell_type": "code",
   "execution_count": null,
   "id": "326c3fd3",
   "metadata": {},
   "outputs": [],
   "source": [
    "import flyte\n",
    "\n",
    "env = flyte.TaskEnvironment(\n",
    "    name=\"hello_flyte_v2\",\n",
    "    resources=flyte.Resources(cpu=1, memory=\"250Mi\"),\n",
    ")\n",
    "\n",
    "\n",
    "@env.task\n",
    "def extract_features(user_input: str) -> dict:\n",
    "    clean = user_input.strip().lower()\n",
    "    return {\n",
    "        \"text\": clean,\n",
    "        \"length\": len(clean),\n",
    "        \"word_count\": len(clean.split()),\n",
    "        \"has_numbers\": any(c.isdigit() for c in clean)\n",
    "    }\n",
    "\n",
    "@env.task\n",
    "def validate_features(features: dict) -> bool:\n",
    "    return features[\"length\"] > 5 and features[\"word_count\"] >= 2\n",
    "\n",
    "@env.task\n",
    "def prepare_training_data(raw_inputs: list[str]) -> dict:\n",
    "    if len(raw_inputs) < 5:\n",
    "        raise ValueError(f\"Need at least 5 samples, got: {len(raw_inputs)}\")\n",
    "\n",
    "    features = list(flyte.map(extract_features, raw_inputs))\n",
    "    valid_flags = list(flyte.map(validate_features, features))\n",
    "\n",
    "    return {\n",
    "        \"total_samples\": len(features),\n",
    "        \"valid_samples\": sum(valid_flags),\n",
    "        \"avg_length\": sum(f[\"length\"] for f in features) / len(features),\n",
    "        \"ready_for_training\": sum(valid_flags) >= len(features) * 0.8\n",
    "    }\n",
    "\n",
    "# Sample user reviews/comments for sentiment analysis training\n",
    "sample_inputs = [\n",
    "    \"  This product is amazing! I love it.  \",    # valid: >5 chars, 2+ words\n",
    "    \"Great quality and fast shipping\",             # valid: >5 chars, 2+ words\n",
    "    \" Bad \",                                       # invalid: too short\n",
    "    \"okay\",                                        # invalid: <2 words\n",
    "    \"The delivery was delayed by 3 days\",         # valid: >5 chars, 2+ words, has numbers\n",
    "    \"Excellent customer service team\",             # valid: >5 chars, 2+ words\n",
    "    \"Perfect for my home office setup\",           # valid: >5 chars, 2+ words\n",
    "    \"meh\"                                          # invalid: too short, 1 word\n",
    "]\n",
    "\n",
    "flyte.init_from_config(\".flyte/config.yaml\")\n",
    "execution = flyte.run(prepare_training_data, raw_inputs=sample_inputs)\n",
    "print(f\"Execution: {execution.name}\")\n",
    "print(f\"URL: {execution.url}\")\n",
    "# Click on signin link to auth the first workflow 👇\n"
   ]
  },
  {
   "cell_type": "markdown",
   "id": "adcd8f3d",
   "metadata": {},
   "source": [
    "#### Run tasks locally"
   ]
  },
  {
   "cell_type": "code",
   "execution_count": null,
   "id": "9cfb645e",
   "metadata": {},
   "outputs": [],
   "source": [
    "flyte.init() #overwrite flyte init from config\n",
    "execution = flyte.run(prepare_training_data, raw_inputs=sample_inputs)\n",
    "print(f\"Execution: {execution.name}\")\n",
    "print(f\"URL: {execution.url}\")\n",
    "#todo: output local info"
   ]
  }
 ],
 "metadata": {
  "kernelspec": {
   "display_name": "3.11.9",
   "language": "python",
   "name": "python3"
  },
  "language_info": {
   "codemirror_mode": {
    "name": "ipython",
    "version": 3
   },
   "file_extension": ".py",
   "mimetype": "text/x-python",
   "name": "python",
   "nbconvert_exporter": "python",
   "pygments_lexer": "ipython3",
   "version": "3.11.9"
  }
 },
 "nbformat": 4,
 "nbformat_minor": 5
}
